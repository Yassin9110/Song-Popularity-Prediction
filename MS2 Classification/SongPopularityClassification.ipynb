{
 "cells": [
  {
   "cell_type": "markdown",
   "metadata": {},
   "source": [
    "# Importing"
   ]
  },
  {
   "cell_type": "code",
   "execution_count": 2,
   "metadata": {},
   "outputs": [],
   "source": [
    "import pandas as pd\n",
    "import numpy as np\n",
    "import matplotlib.pyplot as plt\n",
    "import seaborn as sns\n",
    "import datetime \n",
    "from sklearn.preprocessing import LabelEncoder\n",
    "from sklearn.preprocessing import  MinMaxScaler\n",
    "from sklearn.model_selection import train_test_split\n",
    "from sklearn.ensemble import RandomForestClassifier\n",
    "from sklearn.linear_model import LogisticRegression\n",
    "from sklearn.svm import SVC\n",
    "from sklearn.metrics import accuracy_score, classification_report\n",
    "import pickle\n",
    "from sklearn.model_selection import GridSearchCV\n",
    "\n",
    "\n",
    "%matplotlib inline"
   ]
  },
  {
   "cell_type": "code",
   "execution_count": 3,
   "metadata": {},
   "outputs": [],
   "source": [
    "data = pd.read_csv(\"SongPopularity_Milestone2.csv\")"
   ]
  },
  {
   "cell_type": "code",
   "execution_count": 4,
   "metadata": {},
   "outputs": [
    {
     "data": {
      "text/plain": [
       "(6191, 24)"
      ]
     },
     "execution_count": 4,
     "metadata": {},
     "output_type": "execute_result"
    }
   ],
   "source": [
    "data.shape"
   ]
  },
  {
   "cell_type": "code",
   "execution_count": 14,
   "metadata": {},
   "outputs": [
    {
     "name": "stdout",
     "output_type": "stream",
     "text": [
      "Song: Heaven\n",
      "Album: Greatest Hits\n",
      "Album Release Date: 1/1/2010\n",
      "Artist Names: ['The Karaoke Channel']\n",
      "Artist(s) Genres: []\n",
      "Spotify Link: https://open.spotify.com/track/0bYg9bo50gSsH3LtXe2SQn\n",
      "Song Image: https://i.scdn.co/image/ab67616d00001e021fc9fd5d701ee05cb39b7b19\n",
      "Spotify URI: spotify:track:0bYg9bo50gSsH3LtXe2SQn\n",
      "PopularityLevel: Average\n"
     ]
    }
   ],
   "source": [
    "cat = [i for i in data.columns if data[i].dtypes == \"O\"]\n",
    "noncat = [i for i in data.columns if data[i].dtypes != \"O\"]\n",
    "\n",
    "for col in cat:\n",
    "    print(f\"{col}: {data[col].mode()[0]}\")"
   ]
  },
  {
   "cell_type": "code",
   "execution_count": 15,
   "metadata": {},
   "outputs": [
    {
     "name": "stdout",
     "output_type": "stream",
     "text": [
      "Hot100 Ranking Year: 1987.8481666935875\n",
      "Hot100 Rank: 48.320626716200934\n",
      "Song Length(ms): 224626.53529316752\n",
      "Acousticness: 0.3000630259602649\n",
      "Danceability: 0.6177100629946697\n",
      "Energy: 0.5968806493296721\n",
      "Instrumentalness: 0.04599186652560168\n",
      "Liveness: 0.18075475690518497\n",
      "Loudness: -8.718823937974479\n",
      "Speechiness: 0.07203839444354708\n",
      "Tempo: 119.00919770634792\n",
      "Valence: 0.5963210628331449\n",
      "Key: 5.240833467937328\n",
      "Mode: 0.7058633500242287\n",
      "Time Signature: 3.9410434501696012\n"
     ]
    }
   ],
   "source": [
    "for col in noncat:\n",
    "    print(f\"{col}: {data[col].mean()}\")"
   ]
  },
  {
   "cell_type": "markdown",
   "metadata": {},
   "source": [
    "# Split the data"
   ]
  },
  {
   "cell_type": "code",
   "execution_count": 5,
   "metadata": {},
   "outputs": [],
   "source": [
    "X = data.drop(['PopularityLevel'], axis=1)\n",
    "Y = data[\"PopularityLevel\"]"
   ]
  },
  {
   "cell_type": "code",
   "execution_count": 12,
   "metadata": {},
   "outputs": [
    {
     "name": "stdout",
     "output_type": "stream",
     "text": [
      "Song: Heaven\n",
      "Album: Greatest Hits\n",
      "Album Release Date: 1/1/2010\n",
      "Artist Names: ['The Karaoke Channel']\n",
      "Artist(s) Genres: []\n",
      "Spotify Link: https://open.spotify.com/track/0bYg9bo50gSsH3LtXe2SQn\n",
      "Song Image: https://i.scdn.co/image/ab67616d00001e021fc9fd5d701ee05cb39b7b19\n",
      "Spotify URI: spotify:track:0bYg9bo50gSsH3LtXe2SQn\n"
     ]
    }
   ],
   "source": [
    "cat = [i for i in X.columns if X[i].dtypes == \"O\"]\n",
    "noncat = [i for i in X.columns if X[i].dtypes != \"O\"]\n",
    "\n",
    "for col in cat:\n",
    "    print(f\"{col}: {X[col].mode()[0]}\")\n",
    "\n"
   ]
  },
  {
   "cell_type": "code",
   "execution_count": 5,
   "metadata": {},
   "outputs": [],
   "source": [
    "Y = Y.replace({'Not Popular': 0, 'Average': 1, 'Popular': 2})\n"
   ]
  },
  {
   "cell_type": "code",
   "execution_count": 6,
   "metadata": {},
   "outputs": [],
   "source": [
    "x_train ,x_test, y_train ,y_test = train_test_split(X,Y,test_size=0.2, random_state=42)"
   ]
  },
  {
   "cell_type": "code",
   "execution_count": 7,
   "metadata": {},
   "outputs": [
    {
     "name": "stdout",
     "output_type": "stream",
     "text": [
      "(4952, 23)\n",
      "(1239, 23)\n",
      "(4952,)\n",
      "(1239,)\n"
     ]
    }
   ],
   "source": [
    "print(x_train.shape)\n",
    "print(x_test.shape)\n",
    "print(y_train.shape)\n",
    "print(y_test.shape)"
   ]
  },
  {
   "cell_type": "code",
   "execution_count": 8,
   "metadata": {},
   "outputs": [
    {
     "data": {
      "text/plain": [
       "Song                   0\n",
       "Album                  0\n",
       "Album Release Date     0\n",
       "Artist Names           0\n",
       "Artist(s) Genres       0\n",
       "Hot100 Ranking Year    0\n",
       "Hot100 Rank            0\n",
       "Song Length(ms)        0\n",
       "Spotify Link           0\n",
       "Song Image             0\n",
       "Spotify URI            0\n",
       "Acousticness           0\n",
       "Danceability           0\n",
       "Energy                 0\n",
       "Instrumentalness       0\n",
       "Liveness               0\n",
       "Loudness               0\n",
       "Speechiness            0\n",
       "Tempo                  0\n",
       "Valence                0\n",
       "Key                    0\n",
       "Mode                   0\n",
       "Time Signature         0\n",
       "dtype: int64"
      ]
     },
     "execution_count": 8,
     "metadata": {},
     "output_type": "execute_result"
    }
   ],
   "source": [
    "x_train.isnull().sum()"
   ]
  },
  {
   "cell_type": "code",
   "execution_count": 9,
   "metadata": {},
   "outputs": [
    {
     "data": {
      "text/plain": [
       "0"
      ]
     },
     "execution_count": 9,
     "metadata": {},
     "output_type": "execute_result"
    }
   ],
   "source": [
    "x_train.duplicated().sum()"
   ]
  },
  {
   "cell_type": "code",
   "execution_count": 10,
   "metadata": {},
   "outputs": [
    {
     "data": {
      "text/html": [
       "<div>\n",
       "<style scoped>\n",
       "    .dataframe tbody tr th:only-of-type {\n",
       "        vertical-align: middle;\n",
       "    }\n",
       "\n",
       "    .dataframe tbody tr th {\n",
       "        vertical-align: top;\n",
       "    }\n",
       "\n",
       "    .dataframe thead th {\n",
       "        text-align: right;\n",
       "    }\n",
       "</style>\n",
       "<table border=\"1\" class=\"dataframe\">\n",
       "  <thead>\n",
       "    <tr style=\"text-align: right;\">\n",
       "      <th></th>\n",
       "      <th>Hot100 Ranking Year</th>\n",
       "      <th>Hot100 Rank</th>\n",
       "      <th>Song Length(ms)</th>\n",
       "      <th>Acousticness</th>\n",
       "      <th>Danceability</th>\n",
       "      <th>Energy</th>\n",
       "      <th>Instrumentalness</th>\n",
       "      <th>Liveness</th>\n",
       "      <th>Loudness</th>\n",
       "      <th>Speechiness</th>\n",
       "      <th>Tempo</th>\n",
       "      <th>Valence</th>\n",
       "      <th>Key</th>\n",
       "      <th>Mode</th>\n",
       "      <th>Time Signature</th>\n",
       "    </tr>\n",
       "  </thead>\n",
       "  <tbody>\n",
       "    <tr>\n",
       "      <th>count</th>\n",
       "      <td>4952.000000</td>\n",
       "      <td>4952.000000</td>\n",
       "      <td>4.952000e+03</td>\n",
       "      <td>4952.000000</td>\n",
       "      <td>4952.000000</td>\n",
       "      <td>4952.000000</td>\n",
       "      <td>4952.000000</td>\n",
       "      <td>4952.000000</td>\n",
       "      <td>4952.00000</td>\n",
       "      <td>4952.000000</td>\n",
       "      <td>4952.000000</td>\n",
       "      <td>4952.000000</td>\n",
       "      <td>4952.000000</td>\n",
       "      <td>4952.000000</td>\n",
       "      <td>4952.000000</td>\n",
       "    </tr>\n",
       "    <tr>\n",
       "      <th>mean</th>\n",
       "      <td>1988.072092</td>\n",
       "      <td>48.617528</td>\n",
       "      <td>2.257306e+05</td>\n",
       "      <td>0.296524</td>\n",
       "      <td>0.619903</td>\n",
       "      <td>0.598789</td>\n",
       "      <td>0.044924</td>\n",
       "      <td>0.179078</td>\n",
       "      <td>-8.71525</td>\n",
       "      <td>0.072291</td>\n",
       "      <td>118.903913</td>\n",
       "      <td>0.596642</td>\n",
       "      <td>5.265953</td>\n",
       "      <td>0.703554</td>\n",
       "      <td>3.942044</td>\n",
       "    </tr>\n",
       "    <tr>\n",
       "      <th>std</th>\n",
       "      <td>20.154920</td>\n",
       "      <td>29.237567</td>\n",
       "      <td>6.542577e+04</td>\n",
       "      <td>0.288974</td>\n",
       "      <td>0.156031</td>\n",
       "      <td>0.204853</td>\n",
       "      <td>0.167428</td>\n",
       "      <td>0.148969</td>\n",
       "      <td>3.80822</td>\n",
       "      <td>0.079931</td>\n",
       "      <td>28.219778</td>\n",
       "      <td>0.241738</td>\n",
       "      <td>3.588417</td>\n",
       "      <td>0.456736</td>\n",
       "      <td>0.303606</td>\n",
       "    </tr>\n",
       "    <tr>\n",
       "      <th>min</th>\n",
       "      <td>1946.000000</td>\n",
       "      <td>1.000000</td>\n",
       "      <td>5.180000e+04</td>\n",
       "      <td>0.000004</td>\n",
       "      <td>0.000000</td>\n",
       "      <td>0.012000</td>\n",
       "      <td>0.000000</td>\n",
       "      <td>0.015000</td>\n",
       "      <td>-37.84100</td>\n",
       "      <td>0.000000</td>\n",
       "      <td>0.000000</td>\n",
       "      <td>0.000000</td>\n",
       "      <td>0.000000</td>\n",
       "      <td>0.000000</td>\n",
       "      <td>0.000000</td>\n",
       "    </tr>\n",
       "    <tr>\n",
       "      <th>25%</th>\n",
       "      <td>1972.000000</td>\n",
       "      <td>23.000000</td>\n",
       "      <td>1.824520e+05</td>\n",
       "      <td>0.048575</td>\n",
       "      <td>0.524000</td>\n",
       "      <td>0.457000</td>\n",
       "      <td>0.000000</td>\n",
       "      <td>0.086700</td>\n",
       "      <td>-11.14975</td>\n",
       "      <td>0.032375</td>\n",
       "      <td>97.629500</td>\n",
       "      <td>0.406000</td>\n",
       "      <td>2.000000</td>\n",
       "      <td>0.000000</td>\n",
       "      <td>4.000000</td>\n",
       "    </tr>\n",
       "    <tr>\n",
       "      <th>50%</th>\n",
       "      <td>1988.000000</td>\n",
       "      <td>48.000000</td>\n",
       "      <td>2.216065e+05</td>\n",
       "      <td>0.193000</td>\n",
       "      <td>0.636000</td>\n",
       "      <td>0.619000</td>\n",
       "      <td>0.000004</td>\n",
       "      <td>0.122000</td>\n",
       "      <td>-8.08250</td>\n",
       "      <td>0.041500</td>\n",
       "      <td>117.776500</td>\n",
       "      <td>0.613000</td>\n",
       "      <td>5.000000</td>\n",
       "      <td>1.000000</td>\n",
       "      <td>4.000000</td>\n",
       "    </tr>\n",
       "    <tr>\n",
       "      <th>75%</th>\n",
       "      <td>2005.000000</td>\n",
       "      <td>74.000000</td>\n",
       "      <td>2.578465e+05</td>\n",
       "      <td>0.500250</td>\n",
       "      <td>0.729000</td>\n",
       "      <td>0.759000</td>\n",
       "      <td>0.000463</td>\n",
       "      <td>0.229000</td>\n",
       "      <td>-5.73100</td>\n",
       "      <td>0.069100</td>\n",
       "      <td>134.288500</td>\n",
       "      <td>0.803250</td>\n",
       "      <td>8.000000</td>\n",
       "      <td>1.000000</td>\n",
       "      <td>4.000000</td>\n",
       "    </tr>\n",
       "    <tr>\n",
       "      <th>max</th>\n",
       "      <td>2022.000000</td>\n",
       "      <td>100.000000</td>\n",
       "      <td>1.561133e+06</td>\n",
       "      <td>0.995000</td>\n",
       "      <td>0.988000</td>\n",
       "      <td>0.997000</td>\n",
       "      <td>0.971000</td>\n",
       "      <td>0.985000</td>\n",
       "      <td>-0.81000</td>\n",
       "      <td>0.911000</td>\n",
       "      <td>231.025000</td>\n",
       "      <td>0.991000</td>\n",
       "      <td>11.000000</td>\n",
       "      <td>1.000000</td>\n",
       "      <td>5.000000</td>\n",
       "    </tr>\n",
       "  </tbody>\n",
       "</table>\n",
       "</div>"
      ],
      "text/plain": [
       "       Hot100 Ranking Year  Hot100 Rank  Song Length(ms)  Acousticness  \\\n",
       "count          4952.000000  4952.000000     4.952000e+03   4952.000000   \n",
       "mean           1988.072092    48.617528     2.257306e+05      0.296524   \n",
       "std              20.154920    29.237567     6.542577e+04      0.288974   \n",
       "min            1946.000000     1.000000     5.180000e+04      0.000004   \n",
       "25%            1972.000000    23.000000     1.824520e+05      0.048575   \n",
       "50%            1988.000000    48.000000     2.216065e+05      0.193000   \n",
       "75%            2005.000000    74.000000     2.578465e+05      0.500250   \n",
       "max            2022.000000   100.000000     1.561133e+06      0.995000   \n",
       "\n",
       "       Danceability       Energy  Instrumentalness     Liveness    Loudness  \\\n",
       "count   4952.000000  4952.000000       4952.000000  4952.000000  4952.00000   \n",
       "mean       0.619903     0.598789          0.044924     0.179078    -8.71525   \n",
       "std        0.156031     0.204853          0.167428     0.148969     3.80822   \n",
       "min        0.000000     0.012000          0.000000     0.015000   -37.84100   \n",
       "25%        0.524000     0.457000          0.000000     0.086700   -11.14975   \n",
       "50%        0.636000     0.619000          0.000004     0.122000    -8.08250   \n",
       "75%        0.729000     0.759000          0.000463     0.229000    -5.73100   \n",
       "max        0.988000     0.997000          0.971000     0.985000    -0.81000   \n",
       "\n",
       "       Speechiness        Tempo      Valence          Key         Mode  \\\n",
       "count  4952.000000  4952.000000  4952.000000  4952.000000  4952.000000   \n",
       "mean      0.072291   118.903913     0.596642     5.265953     0.703554   \n",
       "std       0.079931    28.219778     0.241738     3.588417     0.456736   \n",
       "min       0.000000     0.000000     0.000000     0.000000     0.000000   \n",
       "25%       0.032375    97.629500     0.406000     2.000000     0.000000   \n",
       "50%       0.041500   117.776500     0.613000     5.000000     1.000000   \n",
       "75%       0.069100   134.288500     0.803250     8.000000     1.000000   \n",
       "max       0.911000   231.025000     0.991000    11.000000     1.000000   \n",
       "\n",
       "       Time Signature  \n",
       "count     4952.000000  \n",
       "mean         3.942044  \n",
       "std          0.303606  \n",
       "min          0.000000  \n",
       "25%          4.000000  \n",
       "50%          4.000000  \n",
       "75%          4.000000  \n",
       "max          5.000000  "
      ]
     },
     "execution_count": 10,
     "metadata": {},
     "output_type": "execute_result"
    }
   ],
   "source": [
    "x_train.describe()"
   ]
  },
  {
   "cell_type": "markdown",
   "metadata": {},
   "source": [
    "# Preprocessing & Feature Engineering"
   ]
  },
  {
   "cell_type": "markdown",
   "metadata": {},
   "source": [
    "* Extract Year from album release date"
   ]
  },
  {
   "cell_type": "code",
   "execution_count": 11,
   "metadata": {},
   "outputs": [],
   "source": [
    "def extract_year(date_str):\n",
    "    try:\n",
    "        return pd.to_datetime(date_str, errors= 'coerce').year\n",
    "    except:\n",
    "        return None\n",
    "\n",
    "\n",
    "x_train['Album Release Date'] = x_train['Album Release Date'].apply(extract_year)\n",
    "\n",
    "\n",
    "x_train['Album Release Date'] = x_train['Album Release Date'].fillna(x_train['Album Release Date'].loc[x_train['Album Release Date'].notna()].astype(str))\n",
    "\n",
    "x_train.rename(columns={'Album Release Date': 'Album Release Year'}, inplace=True)\n"
   ]
  },
  {
   "cell_type": "markdown",
   "metadata": {},
   "source": [
    "* Categorize The Artist name column"
   ]
  },
  {
   "cell_type": "code",
   "execution_count": 12,
   "metadata": {},
   "outputs": [],
   "source": [
    "def categorize_names(names_list):\n",
    "    num_names = len(names_list)\n",
    "    if num_names == 1:\n",
    "        return 'single'\n",
    "    elif num_names == 2:\n",
    "        return 'duo'\n",
    "    else:\n",
    "        return 'band'\n",
    "\n",
    "# Apply categorization function to create a new column\n",
    "x_train['ArtistCount'] = x_train['Artist Names'].apply(lambda x: categorize_names(eval(x)))"
   ]
  },
  {
   "cell_type": "code",
   "execution_count": 13,
   "metadata": {},
   "outputs": [],
   "source": [
    "def categorize_genres(genres_list):\n",
    "    if any('pop' in genre.lower() for genre in genres_list):\n",
    "        return 'Pop'\n",
    "    elif any('hip hop' in genre.lower() for genre in genres_list):\n",
    "        return 'Hip Hop/Rap'\n",
    "    elif any('country' in genre.lower() for genre in genres_list):\n",
    "        return 'Country'\n",
    "    elif any('electropop' in genre.lower() for genre in genres_list):\n",
    "        return 'Electropop'\n",
    "    elif any('standards' in genre.lower() for genre in genres_list):\n",
    "        return 'Adult Standards'\n",
    "    else:\n",
    "        return 'Others'\n",
    "    \n",
    "# Apply categorization function to create a new column\n",
    "x_train['Genre'] = x_train['Artist(s) Genres'].apply(lambda x: categorize_genres(eval(x)))"
   ]
  },
  {
   "cell_type": "code",
   "execution_count": 14,
   "metadata": {},
   "outputs": [
    {
     "data": {
      "text/plain": [
       "Genre\n",
       "Others             2106\n",
       "Pop                2098\n",
       "Adult Standards     275\n",
       "Country             271\n",
       "Hip Hop/Rap         202\n",
       "Name: count, dtype: int64"
      ]
     },
     "execution_count": 14,
     "metadata": {},
     "output_type": "execute_result"
    }
   ],
   "source": [
    "x_train['Genre'].value_counts()"
   ]
  },
  {
   "cell_type": "code",
   "execution_count": 15,
   "metadata": {},
   "outputs": [],
   "source": [
    "current_year = datetime.datetime.now().year\n",
    "\n",
    "# Calculate the age of the song\n",
    "x_train['Song Age'] = current_year - x_train['Album Release Year']"
   ]
  },
  {
   "cell_type": "code",
   "execution_count": 16,
   "metadata": {},
   "outputs": [],
   "source": [
    "x_train.drop(['Song','Album','Artist(s) Genres','Spotify Link', 'Song Image','Spotify URI', 'Artist Names'], axis = 1 , inplace = True)"
   ]
  },
  {
   "cell_type": "code",
   "execution_count": 17,
   "metadata": {},
   "outputs": [
    {
     "name": "stdout",
     "output_type": "stream",
     "text": [
      "ArtistCount\n",
      "single    4184\n",
      "duo        589\n",
      "band       179\n",
      "Name: count, dtype: int64\n",
      "\n",
      " \n",
      " \n",
      "Genre\n",
      "Others             2106\n",
      "Pop                2098\n",
      "Adult Standards     275\n",
      "Country             271\n",
      "Hip Hop/Rap         202\n",
      "Name: count, dtype: int64\n",
      "\n",
      " \n",
      " \n"
     ]
    }
   ],
   "source": [
    "categorical = [i for i in x_train.columns if x_train[i].dtypes == \"O\"]\n",
    "\n",
    "for feature in  categorical:\n",
    "    print(x_train[feature].value_counts())\n",
    "    print(\"\\n \\n \")"
   ]
  },
  {
   "cell_type": "code",
   "execution_count": 18,
   "metadata": {},
   "outputs": [
    {
     "data": {
      "text/plain": [
       "['ArtistCount', 'Genre']"
      ]
     },
     "execution_count": 18,
     "metadata": {},
     "output_type": "execute_result"
    }
   ],
   "source": [
    "categorical"
   ]
  },
  {
   "cell_type": "markdown",
   "metadata": {},
   "source": [
    "# Encoding"
   ]
  },
  {
   "cell_type": "code",
   "execution_count": 19,
   "metadata": {},
   "outputs": [],
   "source": [
    "label_encoders ={}\n",
    "for col in categorical:\n",
    "    le = LabelEncoder()\n",
    "    x_train[col] = le.fit_transform(x_train[col])"
   ]
  },
  {
   "cell_type": "code",
   "execution_count": 20,
   "metadata": {},
   "outputs": [
    {
     "data": {
      "text/html": [
       "<div>\n",
       "<style scoped>\n",
       "    .dataframe tbody tr th:only-of-type {\n",
       "        vertical-align: middle;\n",
       "    }\n",
       "\n",
       "    .dataframe tbody tr th {\n",
       "        vertical-align: top;\n",
       "    }\n",
       "\n",
       "    .dataframe thead th {\n",
       "        text-align: right;\n",
       "    }\n",
       "</style>\n",
       "<table border=\"1\" class=\"dataframe\">\n",
       "  <thead>\n",
       "    <tr style=\"text-align: right;\">\n",
       "      <th></th>\n",
       "      <th>Album Release Year</th>\n",
       "      <th>Hot100 Ranking Year</th>\n",
       "      <th>Hot100 Rank</th>\n",
       "      <th>Song Length(ms)</th>\n",
       "      <th>Acousticness</th>\n",
       "      <th>Danceability</th>\n",
       "      <th>Energy</th>\n",
       "      <th>Instrumentalness</th>\n",
       "      <th>Liveness</th>\n",
       "      <th>Loudness</th>\n",
       "      <th>Speechiness</th>\n",
       "      <th>Tempo</th>\n",
       "      <th>Valence</th>\n",
       "      <th>Key</th>\n",
       "      <th>Mode</th>\n",
       "      <th>Time Signature</th>\n",
       "      <th>ArtistCount</th>\n",
       "      <th>Genre</th>\n",
       "      <th>Song Age</th>\n",
       "    </tr>\n",
       "  </thead>\n",
       "  <tbody>\n",
       "    <tr>\n",
       "      <th>count</th>\n",
       "      <td>4952.000000</td>\n",
       "      <td>4952.000000</td>\n",
       "      <td>4952.000000</td>\n",
       "      <td>4.952000e+03</td>\n",
       "      <td>4952.000000</td>\n",
       "      <td>4952.000000</td>\n",
       "      <td>4952.000000</td>\n",
       "      <td>4952.000000</td>\n",
       "      <td>4952.000000</td>\n",
       "      <td>4952.00000</td>\n",
       "      <td>4952.000000</td>\n",
       "      <td>4952.000000</td>\n",
       "      <td>4952.000000</td>\n",
       "      <td>4952.000000</td>\n",
       "      <td>4952.000000</td>\n",
       "      <td>4952.000000</td>\n",
       "      <td>4952.000000</td>\n",
       "      <td>4952.000000</td>\n",
       "      <td>4952.000000</td>\n",
       "    </tr>\n",
       "    <tr>\n",
       "      <th>mean</th>\n",
       "      <td>1995.527060</td>\n",
       "      <td>1988.072092</td>\n",
       "      <td>48.617528</td>\n",
       "      <td>2.257306e+05</td>\n",
       "      <td>0.296524</td>\n",
       "      <td>0.619903</td>\n",
       "      <td>0.598789</td>\n",
       "      <td>0.044924</td>\n",
       "      <td>0.179078</td>\n",
       "      <td>-8.71525</td>\n",
       "      <td>0.072291</td>\n",
       "      <td>118.903913</td>\n",
       "      <td>0.596642</td>\n",
       "      <td>5.265953</td>\n",
       "      <td>0.703554</td>\n",
       "      <td>3.942044</td>\n",
       "      <td>1.808764</td>\n",
       "      <td>3.106826</td>\n",
       "      <td>28.472940</td>\n",
       "    </tr>\n",
       "    <tr>\n",
       "      <th>std</th>\n",
       "      <td>18.315092</td>\n",
       "      <td>20.154920</td>\n",
       "      <td>29.237567</td>\n",
       "      <td>6.542577e+04</td>\n",
       "      <td>0.288974</td>\n",
       "      <td>0.156031</td>\n",
       "      <td>0.204853</td>\n",
       "      <td>0.167428</td>\n",
       "      <td>0.148969</td>\n",
       "      <td>3.80822</td>\n",
       "      <td>0.079931</td>\n",
       "      <td>28.219778</td>\n",
       "      <td>0.241738</td>\n",
       "      <td>3.588417</td>\n",
       "      <td>0.456736</td>\n",
       "      <td>0.303606</td>\n",
       "      <td>0.476450</td>\n",
       "      <td>1.082582</td>\n",
       "      <td>18.315092</td>\n",
       "    </tr>\n",
       "    <tr>\n",
       "      <th>min</th>\n",
       "      <td>1899.000000</td>\n",
       "      <td>1946.000000</td>\n",
       "      <td>1.000000</td>\n",
       "      <td>5.180000e+04</td>\n",
       "      <td>0.000004</td>\n",
       "      <td>0.000000</td>\n",
       "      <td>0.012000</td>\n",
       "      <td>0.000000</td>\n",
       "      <td>0.015000</td>\n",
       "      <td>-37.84100</td>\n",
       "      <td>0.000000</td>\n",
       "      <td>0.000000</td>\n",
       "      <td>0.000000</td>\n",
       "      <td>0.000000</td>\n",
       "      <td>0.000000</td>\n",
       "      <td>0.000000</td>\n",
       "      <td>0.000000</td>\n",
       "      <td>0.000000</td>\n",
       "      <td>1.000000</td>\n",
       "    </tr>\n",
       "    <tr>\n",
       "      <th>25%</th>\n",
       "      <td>1981.000000</td>\n",
       "      <td>1972.000000</td>\n",
       "      <td>23.000000</td>\n",
       "      <td>1.824520e+05</td>\n",
       "      <td>0.048575</td>\n",
       "      <td>0.524000</td>\n",
       "      <td>0.457000</td>\n",
       "      <td>0.000000</td>\n",
       "      <td>0.086700</td>\n",
       "      <td>-11.14975</td>\n",
       "      <td>0.032375</td>\n",
       "      <td>97.629500</td>\n",
       "      <td>0.406000</td>\n",
       "      <td>2.000000</td>\n",
       "      <td>0.000000</td>\n",
       "      <td>4.000000</td>\n",
       "      <td>2.000000</td>\n",
       "      <td>3.000000</td>\n",
       "      <td>13.000000</td>\n",
       "    </tr>\n",
       "    <tr>\n",
       "      <th>50%</th>\n",
       "      <td>1998.000000</td>\n",
       "      <td>1988.000000</td>\n",
       "      <td>48.000000</td>\n",
       "      <td>2.216065e+05</td>\n",
       "      <td>0.193000</td>\n",
       "      <td>0.636000</td>\n",
       "      <td>0.619000</td>\n",
       "      <td>0.000004</td>\n",
       "      <td>0.122000</td>\n",
       "      <td>-8.08250</td>\n",
       "      <td>0.041500</td>\n",
       "      <td>117.776500</td>\n",
       "      <td>0.613000</td>\n",
       "      <td>5.000000</td>\n",
       "      <td>1.000000</td>\n",
       "      <td>4.000000</td>\n",
       "      <td>2.000000</td>\n",
       "      <td>3.000000</td>\n",
       "      <td>26.000000</td>\n",
       "    </tr>\n",
       "    <tr>\n",
       "      <th>75%</th>\n",
       "      <td>2011.000000</td>\n",
       "      <td>2005.000000</td>\n",
       "      <td>74.000000</td>\n",
       "      <td>2.578465e+05</td>\n",
       "      <td>0.500250</td>\n",
       "      <td>0.729000</td>\n",
       "      <td>0.759000</td>\n",
       "      <td>0.000463</td>\n",
       "      <td>0.229000</td>\n",
       "      <td>-5.73100</td>\n",
       "      <td>0.069100</td>\n",
       "      <td>134.288500</td>\n",
       "      <td>0.803250</td>\n",
       "      <td>8.000000</td>\n",
       "      <td>1.000000</td>\n",
       "      <td>4.000000</td>\n",
       "      <td>2.000000</td>\n",
       "      <td>4.000000</td>\n",
       "      <td>43.000000</td>\n",
       "    </tr>\n",
       "    <tr>\n",
       "      <th>max</th>\n",
       "      <td>2023.000000</td>\n",
       "      <td>2022.000000</td>\n",
       "      <td>100.000000</td>\n",
       "      <td>1.561133e+06</td>\n",
       "      <td>0.995000</td>\n",
       "      <td>0.988000</td>\n",
       "      <td>0.997000</td>\n",
       "      <td>0.971000</td>\n",
       "      <td>0.985000</td>\n",
       "      <td>-0.81000</td>\n",
       "      <td>0.911000</td>\n",
       "      <td>231.025000</td>\n",
       "      <td>0.991000</td>\n",
       "      <td>11.000000</td>\n",
       "      <td>1.000000</td>\n",
       "      <td>5.000000</td>\n",
       "      <td>2.000000</td>\n",
       "      <td>4.000000</td>\n",
       "      <td>125.000000</td>\n",
       "    </tr>\n",
       "  </tbody>\n",
       "</table>\n",
       "</div>"
      ],
      "text/plain": [
       "       Album Release Year  Hot100 Ranking Year  Hot100 Rank  Song Length(ms)  \\\n",
       "count         4952.000000          4952.000000  4952.000000     4.952000e+03   \n",
       "mean          1995.527060          1988.072092    48.617528     2.257306e+05   \n",
       "std             18.315092            20.154920    29.237567     6.542577e+04   \n",
       "min           1899.000000          1946.000000     1.000000     5.180000e+04   \n",
       "25%           1981.000000          1972.000000    23.000000     1.824520e+05   \n",
       "50%           1998.000000          1988.000000    48.000000     2.216065e+05   \n",
       "75%           2011.000000          2005.000000    74.000000     2.578465e+05   \n",
       "max           2023.000000          2022.000000   100.000000     1.561133e+06   \n",
       "\n",
       "       Acousticness  Danceability       Energy  Instrumentalness     Liveness  \\\n",
       "count   4952.000000   4952.000000  4952.000000       4952.000000  4952.000000   \n",
       "mean       0.296524      0.619903     0.598789          0.044924     0.179078   \n",
       "std        0.288974      0.156031     0.204853          0.167428     0.148969   \n",
       "min        0.000004      0.000000     0.012000          0.000000     0.015000   \n",
       "25%        0.048575      0.524000     0.457000          0.000000     0.086700   \n",
       "50%        0.193000      0.636000     0.619000          0.000004     0.122000   \n",
       "75%        0.500250      0.729000     0.759000          0.000463     0.229000   \n",
       "max        0.995000      0.988000     0.997000          0.971000     0.985000   \n",
       "\n",
       "         Loudness  Speechiness        Tempo      Valence          Key  \\\n",
       "count  4952.00000  4952.000000  4952.000000  4952.000000  4952.000000   \n",
       "mean     -8.71525     0.072291   118.903913     0.596642     5.265953   \n",
       "std       3.80822     0.079931    28.219778     0.241738     3.588417   \n",
       "min     -37.84100     0.000000     0.000000     0.000000     0.000000   \n",
       "25%     -11.14975     0.032375    97.629500     0.406000     2.000000   \n",
       "50%      -8.08250     0.041500   117.776500     0.613000     5.000000   \n",
       "75%      -5.73100     0.069100   134.288500     0.803250     8.000000   \n",
       "max      -0.81000     0.911000   231.025000     0.991000    11.000000   \n",
       "\n",
       "              Mode  Time Signature  ArtistCount        Genre     Song Age  \n",
       "count  4952.000000     4952.000000  4952.000000  4952.000000  4952.000000  \n",
       "mean      0.703554        3.942044     1.808764     3.106826    28.472940  \n",
       "std       0.456736        0.303606     0.476450     1.082582    18.315092  \n",
       "min       0.000000        0.000000     0.000000     0.000000     1.000000  \n",
       "25%       0.000000        4.000000     2.000000     3.000000    13.000000  \n",
       "50%       1.000000        4.000000     2.000000     3.000000    26.000000  \n",
       "75%       1.000000        4.000000     2.000000     4.000000    43.000000  \n",
       "max       1.000000        5.000000     2.000000     4.000000   125.000000  "
      ]
     },
     "execution_count": 20,
     "metadata": {},
     "output_type": "execute_result"
    }
   ],
   "source": [
    "x_train.describe()"
   ]
  },
  {
   "cell_type": "markdown",
   "metadata": {},
   "source": [
    "# Feature selection & Scaling"
   ]
  },
  {
   "cell_type": "code",
   "execution_count": 21,
   "metadata": {},
   "outputs": [
    {
     "name": "stdout",
     "output_type": "stream",
     "text": [
      "Selected Categorical Features:\n",
      "Index(['Key', 'Mode', 'Genre'], dtype='object')\n"
     ]
    }
   ],
   "source": [
    "from sklearn.feature_selection import SelectKBest, chi2, mutual_info_classif\n",
    "\n",
    "x_categorical = x_train[['Key','Mode','Time Signature','ArtistCount','Genre']]\n",
    "chi2_features = SelectKBest(chi2, k=3)\n",
    "x_best_categorical = chi2_features.fit_transform(x_categorical,y_train)\n",
    "\n",
    "# Get the indices of the selected features\n",
    "selected_feature_indices = chi2_features.get_support(indices=True)\n",
    "selected_features = x_categorical.columns[selected_feature_indices]\n",
    "\n",
    "print(\"Selected Categorical Features:\")\n",
    "print(selected_features)"
   ]
  },
  {
   "cell_type": "code",
   "execution_count": 22,
   "metadata": {},
   "outputs": [],
   "source": [
    "x_numerical = x_train.drop(['Key','Mode','Time Signature','ArtistCount','Genre'],axis= 1)\n",
    "normalize = MinMaxScaler()\n",
    "x_normalized = normalize.fit_transform(x_numerical)\n",
    "x_normalized= pd.DataFrame(x_normalized, columns= x_numerical.columns)"
   ]
  },
  {
   "cell_type": "code",
   "execution_count": 23,
   "metadata": {},
   "outputs": [
    {
     "data": {
      "text/html": [
       "<div>\n",
       "<style scoped>\n",
       "    .dataframe tbody tr th:only-of-type {\n",
       "        vertical-align: middle;\n",
       "    }\n",
       "\n",
       "    .dataframe tbody tr th {\n",
       "        vertical-align: top;\n",
       "    }\n",
       "\n",
       "    .dataframe thead th {\n",
       "        text-align: right;\n",
       "    }\n",
       "</style>\n",
       "<table border=\"1\" class=\"dataframe\">\n",
       "  <thead>\n",
       "    <tr style=\"text-align: right;\">\n",
       "      <th></th>\n",
       "      <th>Album Release Year</th>\n",
       "      <th>Hot100 Ranking Year</th>\n",
       "      <th>Hot100 Rank</th>\n",
       "      <th>Song Length(ms)</th>\n",
       "      <th>Acousticness</th>\n",
       "      <th>Danceability</th>\n",
       "      <th>Energy</th>\n",
       "      <th>Instrumentalness</th>\n",
       "      <th>Liveness</th>\n",
       "      <th>Loudness</th>\n",
       "      <th>Speechiness</th>\n",
       "      <th>Tempo</th>\n",
       "      <th>Valence</th>\n",
       "      <th>Song Age</th>\n",
       "    </tr>\n",
       "  </thead>\n",
       "  <tbody>\n",
       "    <tr>\n",
       "      <th>0</th>\n",
       "      <td>0.887097</td>\n",
       "      <td>0.578947</td>\n",
       "      <td>0.040404</td>\n",
       "      <td>0.175583</td>\n",
       "      <td>0.003805</td>\n",
       "      <td>0.745951</td>\n",
       "      <td>0.881218</td>\n",
       "      <td>0.003615</td>\n",
       "      <td>0.414433</td>\n",
       "      <td>0.847722</td>\n",
       "      <td>0.047530</td>\n",
       "      <td>0.502102</td>\n",
       "      <td>0.331988</td>\n",
       "      <td>0.112903</td>\n",
       "    </tr>\n",
       "    <tr>\n",
       "      <th>1</th>\n",
       "      <td>0.911290</td>\n",
       "      <td>0.868421</td>\n",
       "      <td>1.000000</td>\n",
       "      <td>0.118233</td>\n",
       "      <td>0.014368</td>\n",
       "      <td>0.592105</td>\n",
       "      <td>0.974619</td>\n",
       "      <td>0.000000</td>\n",
       "      <td>0.057423</td>\n",
       "      <td>0.901704</td>\n",
       "      <td>0.058617</td>\n",
       "      <td>0.476165</td>\n",
       "      <td>0.590313</td>\n",
       "      <td>0.088710</td>\n",
       "    </tr>\n",
       "    <tr>\n",
       "      <th>2</th>\n",
       "      <td>0.879032</td>\n",
       "      <td>0.828947</td>\n",
       "      <td>0.393939</td>\n",
       "      <td>0.131007</td>\n",
       "      <td>0.016177</td>\n",
       "      <td>0.688259</td>\n",
       "      <td>0.685279</td>\n",
       "      <td>0.000000</td>\n",
       "      <td>0.253608</td>\n",
       "      <td>0.855472</td>\n",
       "      <td>0.077827</td>\n",
       "      <td>0.649510</td>\n",
       "      <td>0.471241</td>\n",
       "      <td>0.120968</td>\n",
       "    </tr>\n",
       "    <tr>\n",
       "      <th>3</th>\n",
       "      <td>0.911290</td>\n",
       "      <td>0.539474</td>\n",
       "      <td>0.585859</td>\n",
       "      <td>0.129567</td>\n",
       "      <td>0.004640</td>\n",
       "      <td>0.796559</td>\n",
       "      <td>0.890355</td>\n",
       "      <td>0.435633</td>\n",
       "      <td>0.053093</td>\n",
       "      <td>0.919635</td>\n",
       "      <td>0.043578</td>\n",
       "      <td>0.493847</td>\n",
       "      <td>0.397578</td>\n",
       "      <td>0.088710</td>\n",
       "    </tr>\n",
       "    <tr>\n",
       "      <th>4</th>\n",
       "      <td>0.911290</td>\n",
       "      <td>0.223684</td>\n",
       "      <td>0.919192</td>\n",
       "      <td>0.054505</td>\n",
       "      <td>0.206027</td>\n",
       "      <td>0.405870</td>\n",
       "      <td>0.914721</td>\n",
       "      <td>0.000473</td>\n",
       "      <td>0.128866</td>\n",
       "      <td>0.947476</td>\n",
       "      <td>0.186608</td>\n",
       "      <td>0.564121</td>\n",
       "      <td>0.668012</td>\n",
       "      <td>0.088710</td>\n",
       "    </tr>\n",
       "  </tbody>\n",
       "</table>\n",
       "</div>"
      ],
      "text/plain": [
       "   Album Release Year  Hot100 Ranking Year  Hot100 Rank  Song Length(ms)  \\\n",
       "0            0.887097             0.578947     0.040404         0.175583   \n",
       "1            0.911290             0.868421     1.000000         0.118233   \n",
       "2            0.879032             0.828947     0.393939         0.131007   \n",
       "3            0.911290             0.539474     0.585859         0.129567   \n",
       "4            0.911290             0.223684     0.919192         0.054505   \n",
       "\n",
       "   Acousticness  Danceability    Energy  Instrumentalness  Liveness  Loudness  \\\n",
       "0      0.003805      0.745951  0.881218          0.003615  0.414433  0.847722   \n",
       "1      0.014368      0.592105  0.974619          0.000000  0.057423  0.901704   \n",
       "2      0.016177      0.688259  0.685279          0.000000  0.253608  0.855472   \n",
       "3      0.004640      0.796559  0.890355          0.435633  0.053093  0.919635   \n",
       "4      0.206027      0.405870  0.914721          0.000473  0.128866  0.947476   \n",
       "\n",
       "   Speechiness     Tempo   Valence  Song Age  \n",
       "0     0.047530  0.502102  0.331988  0.112903  \n",
       "1     0.058617  0.476165  0.590313  0.088710  \n",
       "2     0.077827  0.649510  0.471241  0.120968  \n",
       "3     0.043578  0.493847  0.397578  0.088710  \n",
       "4     0.186608  0.564121  0.668012  0.088710  "
      ]
     },
     "execution_count": 23,
     "metadata": {},
     "output_type": "execute_result"
    }
   ],
   "source": [
    "x_normalized.head()"
   ]
  },
  {
   "cell_type": "code",
   "execution_count": 24,
   "metadata": {},
   "outputs": [
    {
     "name": "stdout",
     "output_type": "stream",
     "text": [
      "Selected Numerical Features based on Fisher's Score:\n",
      "Index(['Album Release Year', 'Hot100 Ranking Year', 'Acousticness', 'Energy',\n",
      "       'Loudness', 'Song Age'],\n",
      "      dtype='object')\n"
     ]
    }
   ],
   "source": [
    "from sklearn.feature_selection import SelectKBest, f_classif\n",
    "\n",
    "\n",
    "fischer_features = SelectKBest(score_func=f_classif, k=6)\n",
    "x_best_numerical = fischer_features.fit_transform(x_normalized, y_train)\n",
    "\n",
    "# Get the indices of the selected features\n",
    "selected_feature_indices = fischer_features.get_support(indices=True)\n",
    "selected_features = x_normalized.columns[selected_feature_indices]\n",
    "\n",
    "print(\"Selected Numerical Features based on Fisher's Score:\")\n",
    "print(selected_features)"
   ]
  },
  {
   "cell_type": "code",
   "execution_count": 25,
   "metadata": {},
   "outputs": [],
   "source": [
    "selected_numerical_features = x_normalized[['Hot100 Ranking Year', 'Album Release Year', 'Song Age', 'Loudness', 'Acousticness', 'Energy','Song Length(ms)']]\n",
    "selected_categorical_features = x_train[['Key', 'Mode', 'Genre']]\n",
    "selected_numerical_features.reset_index(drop=True, inplace=True)\n",
    "selected_categorical_features.reset_index(drop=True, inplace=True)\n",
    "x_selected = pd.concat([selected_numerical_features, selected_categorical_features], axis=1)\n"
   ]
  },
  {
   "cell_type": "markdown",
   "metadata": {},
   "source": [
    "# Model Evaluation"
   ]
  },
  {
   "cell_type": "code",
   "execution_count": 26,
   "metadata": {},
   "outputs": [],
   "source": [
    "from sklearn.metrics import accuracy_score \n",
    "import time\n",
    "\n",
    "def model_val(model, x_train, y_train):\n",
    "    start_time = time.time()\n",
    "    model.fit(x_train, y_train)\n",
    "    end_time = time.time()\n",
    "    training_time = end_time - start_time\n",
    "    training_time = round(training_time, 5)\n",
    "    Y_train_pred = model.predict(x_train)\n",
    "    accuracy = accuracy_score(y_train, Y_train_pred)\n",
    "    print(f\"accuracy is {accuracy}\")\n",
    "    print(f\"Training time: {training_time} seconds\")\n",
    "    return accuracy, training_time\n",
    "    "
   ]
  },
  {
   "cell_type": "code",
   "execution_count": 27,
   "metadata": {},
   "outputs": [
    {
     "name": "stdout",
     "output_type": "stream",
     "text": [
      "accuracy is 0.595718901453958\n",
      "Training time: 0.1412 seconds\n"
     ]
    },
    {
     "name": "stderr",
     "output_type": "stream",
     "text": [
      "c:\\Users\\yassi\\anaconda3\\Lib\\site-packages\\sklearn\\linear_model\\_logistic.py:460: ConvergenceWarning: lbfgs failed to converge (status=1):\n",
      "STOP: TOTAL NO. of ITERATIONS REACHED LIMIT.\n",
      "\n",
      "Increase the number of iterations (max_iter) or scale the data as shown in:\n",
      "    https://scikit-learn.org/stable/modules/preprocessing.html\n",
      "Please also refer to the documentation for alternative solver options:\n",
      "    https://scikit-learn.org/stable/modules/linear_model.html#logistic-regression\n",
      "  n_iter_i = _check_optimize_result(\n"
     ]
    }
   ],
   "source": [
    "from sklearn.linear_model import LogisticRegression\n",
    "LR_model = LogisticRegression()\n",
    "LR_acc, LR_time = model_val(LR_model,x_selected,y_train)"
   ]
  },
  {
   "cell_type": "code",
   "execution_count": 28,
   "metadata": {},
   "outputs": [
    {
     "name": "stdout",
     "output_type": "stream",
     "text": [
      "Best hyperparameters: {'C': 100, 'max_iter': 1000}\n",
      "Best score: 0.5953160260526558\n"
     ]
    }
   ],
   "source": [
    "from sklearn.model_selection import GridSearchCV\n",
    "\n",
    "param_grid = {\n",
    "    'C': [0.01, 0.1, 1, 10, 100],\n",
    "    'max_iter': [100, 1000, 10000],\n",
    "}\n",
    "\n",
    "grid_search = GridSearchCV(LR_model, param_grid=param_grid, cv=5, n_jobs=-1)\n",
    "\n",
    "grid_search.fit(x_selected, y_train)\n",
    "\n",
    "print(\"Best hyperparameters:\", grid_search.best_params_)\n",
    "print(\"Best score:\", grid_search.best_score_)"
   ]
  },
  {
   "cell_type": "code",
   "execution_count": 29,
   "metadata": {},
   "outputs": [
    {
     "name": "stdout",
     "output_type": "stream",
     "text": [
      "accuracy is 0.6003634894991923\n",
      "Training time: 3.47628 seconds\n"
     ]
    }
   ],
   "source": [
    "from sklearn import svm\n",
    "SVM_model = svm.SVC(kernel= 'linear', C = 5)\n",
    "SVM_acc, SVM_time =model_val(SVM_model,x_selected,y_train)"
   ]
  },
  {
   "cell_type": "code",
   "execution_count": 30,
   "metadata": {},
   "outputs": [
    {
     "name": "stdout",
     "output_type": "stream",
     "text": [
      "accuracy is 0.6544830371567044\n",
      "Training time: 0.02657 seconds\n"
     ]
    }
   ],
   "source": [
    "from sklearn.neighbors import KNeighborsClassifier\n",
    "KNN_model = KNeighborsClassifier(n_neighbors=9)\n",
    "KNN_acc, KNN_time =model_val(KNN_model, x_selected, y_train)"
   ]
  },
  {
   "cell_type": "code",
   "execution_count": 31,
   "metadata": {},
   "outputs": [
    {
     "name": "stdout",
     "output_type": "stream",
     "text": [
      "accuracy is 0.7003231017770598\n",
      "Training time: 7.48338 seconds\n"
     ]
    }
   ],
   "source": [
    "from sklearn.ensemble import  GradientBoostingClassifier\n",
    "\n",
    "GB_model = GradientBoostingClassifier()\n",
    "GB_acc, GB_time =model_val(GB_model, x_selected, y_train)"
   ]
  },
  {
   "cell_type": "code",
   "execution_count": 32,
   "metadata": {},
   "outputs": [
    {
     "name": "stdout",
     "output_type": "stream",
     "text": [
      "accuracy is 0.6948707592891761\n",
      "Training time: 28.22107 seconds\n"
     ]
    }
   ],
   "source": [
    "from sklearn.ensemble import VotingClassifier\n",
    "\n",
    "\n",
    "\n",
    "\n",
    "base_models = [\n",
    "    ('knn', KNeighborsClassifier()),\n",
    "    ('gb', GradientBoostingClassifier(n_estimators=100)),\n",
    "    ('svm', SVC(kernel='linear', C=5, probability=True))  # Enable probability estimation\n",
    "]\n",
    "\n",
    "\n",
    "voting_classifier = VotingClassifier(estimators=base_models, voting='soft')\n",
    "\n",
    "vot_acc, vot_time = model_val(voting_classifier, x_selected, y_train)"
   ]
  },
  {
   "cell_type": "code",
   "execution_count": 33,
   "metadata": {},
   "outputs": [
    {
     "name": "stdout",
     "output_type": "stream",
     "text": [
      "accuracy is 0.7023424878836834\n",
      "Training time: 120.98649 seconds\n"
     ]
    }
   ],
   "source": [
    "from sklearn.ensemble import StackingClassifier\n",
    "\n",
    "\n",
    "base_models = [\n",
    "    ('svm', SVC(kernel='linear', C=5, probability=True)),\n",
    "    ('gb', GradientBoostingClassifier(n_estimators=100)),\n",
    "    ('knn', KNeighborsClassifier())\n",
    "]\n",
    "\n",
    "\n",
    "stacking_classifier = StackingClassifier(estimators=base_models, final_estimator=LogisticRegression())\n",
    "\n",
    "stack_acc, stack_time = model_val(stacking_classifier, x_selected, y_train)"
   ]
  },
  {
   "cell_type": "code",
   "execution_count": 34,
   "metadata": {},
   "outputs": [
    {
     "data": {
      "image/png": "[encoded data removed]",
      "text/plain": [
       "<Figure size 1000x600 with 1 Axes>"
      ]
     },
     "metadata": {},
     "output_type": "display_data"
    }
   ],
   "source": [
    "models = ['LR_model','SVM_model', 'KNN_model',  'GB_model', 'voting', 'stacking_classifier']\n",
    "\n",
    "training_times = [LR_time, SVM_time, KNN_time, GB_time, vot_time, stack_time]\n",
    "\n",
    "\n",
    "plt.figure(figsize=(10, 6))  \n",
    "\n",
    "plt.bar(models, training_times, color='skyblue')  \n",
    "\n",
    "plt.xlabel('Models') \n",
    "plt.ylabel('Training Time (seconds)')  \n",
    "plt.title('Training Time Comparison')  \n",
    "\n",
    "plt.xticks(rotation=45)  \n",
    "\n",
    "plt.tight_layout() \n",
    "plt.show()  "
   ]
  },
  {
   "cell_type": "markdown",
   "metadata": {},
   "source": [
    "# Saving the Models"
   ]
  },
  {
   "cell_type": "code",
   "execution_count": 35,
   "metadata": {},
   "outputs": [],
   "source": [
    "import pickle \n",
    "\n",
    "# Encoding Model\n",
    "\n",
    "pickle.dump(le,open(\"Models/Encoding model.pkl\", \"wb\") )\n"
   ]
  },
  {
   "cell_type": "code",
   "execution_count": 36,
   "metadata": {},
   "outputs": [],
   "source": [
    "# Scaling Model\n",
    "\n",
    "pickle.dump(normalize,open(\"Models/Normalization model.pkl\", \"wb\") )\n"
   ]
  },
  {
   "cell_type": "code",
   "execution_count": 37,
   "metadata": {},
   "outputs": [],
   "source": [
    "# Machine learning models\n",
    "\n",
    "\n",
    "\n",
    "pickle.dump(GB_model,open(\"Models/GB model.pkl\", \"wb\") )\n",
    "\n",
    "pickle.dump(voting_classifier,open(\"Models/voting model.pkl\", \"wb\") )\n",
    "\n",
    "pickle.dump(stacking_classifier,open(\"Models/stacking model.pkl\", \"wb\") )\n"
   ]
  },
  {
   "cell_type": "markdown",
   "metadata": {},
   "source": [
    "# Testing"
   ]
  },
  {
   "cell_type": "markdown",
   "metadata": {},
   "source": [
    "x_test, y_test"
   ]
  },
  {
   "cell_type": "code",
   "execution_count": 41,
   "metadata": {},
   "outputs": [],
   "source": [
    "x_test['Album Release Date'] = x_test['Album Release Date'].apply(extract_year)\n",
    "\n",
    "\n",
    "x_test['Album Release Date'] = x_test['Album Release Date'].fillna(x_test['Album Release Date'].loc[x_test['Album Release Date'].notna()].astype(str))\n",
    "\n",
    "x_test.rename(columns={'Album Release Date': 'Album Release Year'}, inplace=True)\n",
    "\n",
    "\n",
    "# Apply categorization function to create a new column\n",
    "x_test['ArtistCount'] = x_test['Artist Names'].apply(lambda x: categorize_names(eval(x)))\n",
    "\n",
    "# Apply categorization function to create a new column\n",
    "x_test['Genre'] = x_test['Artist(s) Genres'].apply(lambda x: categorize_genres(eval(x)))\n",
    "\n",
    "\n",
    "current_year = datetime.datetime.now().year\n",
    "\n",
    "# Calculate the age of the song\n",
    "x_test['Song Age'] = current_year - x_test['Album Release Year']"
   ]
  },
  {
   "cell_type": "code",
   "execution_count": 42,
   "metadata": {},
   "outputs": [],
   "source": [
    "x_test.drop(['Song','Album','Artist(s) Genres','Spotify Link', 'Song Image','Spotify URI', 'Artist Names'], axis = 1 , inplace = True)"
   ]
  },
  {
   "cell_type": "markdown",
   "metadata": {},
   "source": [
    " *Reading*"
   ]
  },
  {
   "cell_type": "code",
   "execution_count": 43,
   "metadata": {},
   "outputs": [],
   "source": [
    "encoding_model = pickle.load(open(\"Models/Encoding model.pkl\", \"rb\"))\n",
    "\n",
    "normalization_model = pickle.load(open(\"Models/Normalization model.pkl\", \"rb\"))\n",
    "\n",
    "GB_model = pickle.load(open(\"Models/GB model.pkl\", \"rb\"))\n",
    "\n",
    "voting_model = pickle.load(open(\"Models/voting model.pkl\", \"rb\"))\n",
    "\n",
    "stacking_model = pickle.load(open(\"Models/stacking model.pkl\", \"rb\"))\n",
    "\n"
   ]
  },
  {
   "cell_type": "code",
   "execution_count": 44,
   "metadata": {},
   "outputs": [],
   "source": [
    "categorical_columns = [i for i in x_test.columns if x_test[i].dtype == \"O\"]\n",
    "\n",
    "for col in categorical_columns:\n",
    "     x_test[col] = x_test[col].apply(lambda x: encoding_model.transform([x])[0] if x in encoding_model.classes_ else -1)\n",
    "    \n"
   ]
  },
  {
   "cell_type": "code",
   "execution_count": 45,
   "metadata": {},
   "outputs": [],
   "source": [
    "x_numerical = x_test.drop(['Key','Mode','Time Signature','ArtistCount','Genre'],axis= 1)\n",
    "\n",
    "x_normalized = normalization_model.transform(x_numerical)\n",
    "x_normalized= pd.DataFrame(x_normalized, columns= x_numerical.columns)\n",
    "x_normalized.reset_index(drop=True, inplace=True)"
   ]
  },
  {
   "cell_type": "code",
   "execution_count": 48,
   "metadata": {},
   "outputs": [],
   "source": [
    "x_test.reset_index(drop=True, inplace=True)"
   ]
  },
  {
   "cell_type": "code",
   "execution_count": 50,
   "metadata": {},
   "outputs": [],
   "source": [
    "\n",
    "columns_to_replace = ['Hot100 Ranking Year', 'Album Release Year', 'Song Age', 'Loudness', 'Acousticness', 'Energy', 'Song Length(ms)']\n",
    "\n",
    "\n",
    "x_test[columns_to_replace] = x_normalized[columns_to_replace]\n"
   ]
  },
  {
   "cell_type": "code",
   "execution_count": 52,
   "metadata": {},
   "outputs": [],
   "source": [
    "x_test = x_test[['Hot100 Ranking Year', 'Album Release Year', 'Song Age', 'Loudness', 'Acousticness', 'Energy', 'Song Length(ms)', 'Key', 'Mode', 'Genre']]\n"
   ]
  },
  {
   "cell_type": "code",
   "execution_count": 55,
   "metadata": {},
   "outputs": [
    {
     "name": "stdout",
     "output_type": "stream",
     "text": [
      "accuracy is 0.6448748991121872\n"
     ]
    }
   ],
   "source": [
    "y_pred = GB_model.predict(x_test)\n",
    "\n",
    "accuracy = accuracy_score(y_test, y_pred)\n",
    "print(f\"accuracy is {accuracy}\")"
   ]
  },
  {
   "cell_type": "code",
   "execution_count": 56,
   "metadata": {},
   "outputs": [
    {
     "name": "stdout",
     "output_type": "stream",
     "text": [
      "accuracy is 0.639225181598063\n"
     ]
    }
   ],
   "source": [
    "y_pred = voting_model.predict(x_test)\n",
    "\n",
    "accuracy = accuracy_score(y_test, y_pred)\n",
    "print(f\"accuracy is {accuracy}\")"
   ]
  },
  {
   "cell_type": "code",
   "execution_count": 57,
   "metadata": {},
   "outputs": [
    {
     "name": "stdout",
     "output_type": "stream",
     "text": [
      "accuracy is 0.6440677966101694\n"
     ]
    }
   ],
   "source": [
    "y_pred = stacking_model.predict(x_test)\n",
    "\n",
    "accuracy = accuracy_score(y_test, y_pred)\n",
    "print(f\"accuracy is {accuracy}\")"
   ]
  }
 ],
 "metadata": {
  "kernelspec": {
   "display_name": "base",
   "language": "python",
   "name": "python3"
  },
  "language_info": {
   "codemirror_mode": {
    "name": "ipython",
    "version": 3
   },
   "file_extension": ".py",
   "mimetype": "text/x-python",
   "name": "python",
   "nbconvert_exporter": "python",
   "pygments_lexer": "ipython3",
   "version": "3.11.5"
  }
 },
 "nbformat": 4,
 "nbformat_minor": 2
}
